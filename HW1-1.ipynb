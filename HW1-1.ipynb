{
 "cells": [
  {
   "cell_type": "markdown",
   "id": "79312078",
   "metadata": {},
   "source": [
    "# 📝 Homework #1"
   ]
  },
  {
   "cell_type": "markdown",
   "id": "81396f92",
   "metadata": {},
   "source": [
    "Imagine we are interested in predicting penguins species based on two of their\n",
    "body measurements: culmen length and culmen depth. First we want to do some\n",
    "data exploration to get a feel for the data.\n",
    "\n",
    "What are the features? What is the target?"
   ]
  },
  {
   "cell_type": "markdown",
   "id": "36eaf5ab",
   "metadata": {},
   "source": [
    "The data is located in `penguins.csv`, load it with\n",
    "`pandas` into a `DataFrame`."
   ]
  },
  {
   "cell_type": "code",
   "execution_count": 1,
   "id": "1dce7c4e",
   "metadata": {},
   "outputs": [],
   "source": [
    "# Write your code here."
   ]
  },
  {
   "cell_type": "markdown",
   "id": "13b2bd82",
   "metadata": {},
   "source": [
    "Show a few samples of the data.\n",
    "\n",
    "How many features are numerical? "
   ]
  },
  {
   "cell_type": "code",
   "execution_count": 2,
   "id": "74acb865",
   "metadata": {},
   "outputs": [],
   "source": [
    "# Write your code here."
   ]
  },
  {
   "cell_type": "markdown",
   "id": "1ae76403",
   "metadata": {},
   "source": [
    "What are the different penguins species available in the dataset and how many\n",
    "samples of each species are there? Hint: select the right column and use the\n",
    "[`value_counts`](https://pandas.pydata.org/pandas-docs/stable/reference/api/pandas.Series.value_counts.html)\n",
    "method."
   ]
  },
  {
   "cell_type": "code",
   "execution_count": 3,
   "id": "cd3f28e6",
   "metadata": {},
   "outputs": [],
   "source": [
    "# Write your code here."
   ]
  },
  {
   "cell_type": "markdown",
   "id": "db465eca",
   "metadata": {},
   "source": [
    "Plot histograms for the data"
   ]
  },
  {
   "cell_type": "code",
   "execution_count": 4,
   "id": "1b575235",
   "metadata": {},
   "outputs": [],
   "source": [
    "# Write your code here."
   ]
  },
  {
   "cell_type": "markdown",
   "id": "4a7f66f7",
   "metadata": {},
   "source": [
    "Show features distribution for each class. Hint: use\n",
    "[`seaborn.pairplot`](https://seaborn.pydata.org/generated/seaborn.pairplot.html). Pass in the entire dataframe as the 'data' (all columns). You can set the 'height' parameter to 4 and the 'hue' parameter to the species column. No other parameters in the pairplot need to be set. "
   ]
  },
  {
   "cell_type": "code",
   "execution_count": 5,
   "id": "08ace2f4",
   "metadata": {},
   "outputs": [],
   "source": [
    "# Write your code here."
   ]
  },
  {
   "cell_type": "markdown",
   "id": "898f03c7",
   "metadata": {},
   "source": [
    "Looking at these distributions, how hard do you think it would be to classify\n",
    "the penguins only using `\"bill depth\"` and `\"bill length\"`? Do certain values of `\"bill depth\"` and `\"bill length\"` correspond to certain species of penguin?"
   ]
  },
  {
   "cell_type": "markdown",
   "id": "bizarre-livestock",
   "metadata": {},
   "source": [
    " Write your answer here - this should be text not code"
   ]
  }
 ],
 "metadata": {
  "jupytext": {
   "main_language": "python"
  },
  "kernelspec": {
   "display_name": "Python 3",
   "language": "python",
   "name": "python3"
  },
  "language_info": {
   "codemirror_mode": {
    "name": "ipython",
    "version": 3
   },
   "file_extension": ".py",
   "mimetype": "text/x-python",
   "name": "python",
   "nbconvert_exporter": "python",
   "pygments_lexer": "ipython3",
   "version": "3.8.3"
  },
  "nbreset": "https://raw.githubusercontent.com/INRIA/scikit-learn-mooc/main/notebooks/01_tabular_data_exploration_ex_01.ipynb"
 },
 "nbformat": 4,
 "nbformat_minor": 5
}
